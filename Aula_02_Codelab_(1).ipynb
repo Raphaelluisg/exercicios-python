{
  "nbformat": 4,
  "nbformat_minor": 0,
  "metadata": {
    "colab": {
      "name": "Aula_02_Codelab (1).ipynb",
      "provenance": [],
      "collapsed_sections": [],
      "include_colab_link": true
    },
    "kernelspec": {
      "name": "python3",
      "display_name": "Python 3"
    },
    "language_info": {
      "name": "python"
    }
  },
  "cells": [
    {
      "cell_type": "markdown",
      "metadata": {
        "id": "view-in-github",
        "colab_type": "text"
      },
      "source": [
        "<a href=\"https://colab.research.google.com/github/Raphaelluisg/exercicios-python/blob/main/Aula_02_Codelab_(1).ipynb\" target=\"_parent\"><img src=\"https://colab.research.google.com/assets/colab-badge.svg\" alt=\"Open In Colab\"/></a>"
      ]
    },
    {
      "cell_type": "markdown",
      "metadata": {
        "id": "n_igYcmdk6U9"
      },
      "source": [
        "# **Exercícios para treinar:**"
      ]
    },
    {
      "cell_type": "markdown",
      "metadata": {
        "id": "rRyZR6ZAlEHU"
      },
      "source": [
        "1. **Frase na tela** - Implemente um programa que escreve na tela a frase \"O primeiro programa a gente nunca esquece!\".\n",
        "\n",
        "2. **Etiqueta** - Elabore um programa que escreve seu nome completo na primeira linha, seu endereço na segunda e o CEP e telefone na terceira.\n",
        "\n",
        "3. **Letra de música** - Faça um programa que mostre na tela uma letra de música que você gosta (proibido letras do Justin Bieber).\n",
        "\n",
        "4. **Tabela de notas** - Você foi contratado ou contratada por uma escola pra fazer o sistema de boletim dos alunos. Como primeiro passo, escreva um programa que produza a seguinte saída:\n",
        "```\n",
        "ALUNO (A)  NOTA\n",
        "=========  ====\n",
        "ALINE      9.0\n",
        "MÁRIO      DEZ\n",
        "SÉRGIO     4.5\n",
        "SHIRLEY    7.0\n",
        "```\n",
        "\n",
        "5. **Menu** - Elabore um programa que mostre o seguinte menu na tela:\n",
        "```\n",
        "Cadastro de Clientes\n",
        "0 - Fim\n",
        "1 - Inclui\n",
        "2 - Altera\n",
        "3 - Exclui\n",
        "4 - Consulta\n",
        "Digite uma opção: \n",
        "```\n",
        "Ao digitar um valor para a opção, o programa exibe qual opção foi escolhida.\n",
        "```\n",
        "Você escolheu a opção '0'.\n",
        "```\n",
        "\n",
        "6. **Calculadora de Dano** - Escreva um programa que receba dois valores digitados pelo usuário:\n",
        "  - Quantidade de vida de um monstro (entre 10 e 50);\n",
        "  - Valor do ataque do jogador por turno (entre 5 e 10);\n",
        "  - Baseado nos valores digitados, exiba a quantidade de turnos que o jogador irá demorar para conseguir derrotar o monstro.\n",
        "  - ```\n",
        "    O jogador irá derrotar o monstro em 8 turnos.\n",
        "    ```"
      ]
    },
    {
      "cell_type": "code",
      "metadata": {
        "colab": {
          "base_uri": "https://localhost:8080/"
        },
        "id": "cgt9s6Ti7ezL",
        "outputId": "bbeef535-bfbc-49d6-9521-f0f554b2b665"
      },
      "source": [
        "print(\"O primeiro programa a gente nunca esquece!\")"
      ],
      "execution_count": null,
      "outputs": [
        {
          "output_type": "stream",
          "text": [
            "O primeiro programa a gente nunca esquece!\n"
          ],
          "name": "stdout"
        }
      ]
    },
    {
      "cell_type": "code",
      "metadata": {
        "colab": {
          "base_uri": "https://localhost:8080/"
        },
        "id": "M4sY1gDd772A",
        "outputId": "75c8e4e8-409b-4f8c-a50a-1e964d800252"
      },
      "source": [
        "Nome = \"Raphael Luis Gonçalves\"\n",
        "Endereço = \"Rua Senador Rui Palmeira\"\n",
        "CEP = \"57035-250\"\n",
        "\n",
        "print(f'Nome: {Nome}\\nEndereço: {Endereço}\\nCEP: {CEP}')"
      ],
      "execution_count": null,
      "outputs": [
        {
          "output_type": "stream",
          "text": [
            "Nome: Raphael Luis Gonçalves\n",
            "Endereço: Rua Senador Rui Palmeira\n",
            "CEP: 57035-250\n"
          ],
          "name": "stdout"
        }
      ]
    },
    {
      "cell_type": "code",
      "metadata": {
        "colab": {
          "base_uri": "https://localhost:8080/"
        },
        "id": "cLIaVomU8y0L",
        "outputId": "6bf672dc-d5a4-4a1a-d44c-921d812bc4ba"
      },
      "source": [
        "print(\"Korn\\nMusica - falling away from me\\n\\n\\nHey, I am feeling tired\\nMy time has gone today\\nYou flirt with suicide\\nSometimes 'that's' okay\\nDo what others say\\n'I'm' here standing hollow\\nFalling away from me\\nFalling away from me\\nDay is here fading\\n'That's' when I'm insane\\nI flirt with suicide\\nSometimes kill the pain\\nI 'can't' always say\\n'It's' gonna be better tomorrow\\nFalling away from me\\nFalling away from me\\nBeating me down!\\nBeating me, beating me\\nDown, down\\nInto the ground!\\nScreaming some sound!\\nBeating me, beating me\\nDown, down\\nInto the ground!\\nFalling away from me\\n'It's' spinning round and round\\nFalling away from me\\n'It's' lost and 'can't' be found\\nFalling away from me\\n'It's' spinning round and round\\nFalling away from me\\nThrow it down\\nBeating me down!\\nBeating me, beating me\\nDown, down\\nInto the ground!\\nScreaming some sound!\")                                                                         \n"
      ],
      "execution_count": null,
      "outputs": [
        {
          "output_type": "stream",
          "text": [
            "Korn\n",
            "Musica - falling away from me\n",
            "\n",
            "\n",
            "Hey, I am feeling tired\n",
            "My time has gone today\n",
            "You flirt with suicide\n",
            "Sometimes 'that's' okay\n",
            "Do what others say\n",
            "'I'm' here standing hollow\n",
            "Falling away from me\n",
            "Falling away from me\n",
            "Day is here fading\n",
            "'That's' when I'm insane\n",
            "I flirt with suicide\n",
            "Sometimes kill the pain\n",
            "I 'can't' always say\n",
            "'It's' gonna be better tomorrow\n",
            "Falling away from me\n",
            "Falling away from me\n",
            "Beating me down!\n",
            "Beating me, beating me\n",
            "Down, down\n",
            "Into the ground!\n",
            "Screaming some sound!\n",
            "Beating me, beating me\n",
            "Down, down\n",
            "Into the ground!\n",
            "Falling away from me\n",
            "'It's' spinning round and round\n",
            "Falling away from me\n",
            "'It's' lost and 'can't' be found\n",
            "Falling away from me\n",
            "'It's' spinning round and round\n",
            "Falling away from me\n",
            "Throw it down\n",
            "Beating me down!\n",
            "Beating me, beating me\n",
            "Down, down\n",
            "Into the ground!\n",
            "Screaming some sound!\n"
          ],
          "name": "stdout"
        }
      ]
    },
    {
      "cell_type": "code",
      "metadata": {
        "id": "ZRlX46lr9S_c"
      },
      "source": [
        ""
      ],
      "execution_count": null,
      "outputs": []
    },
    {
      "cell_type": "code",
      "metadata": {
        "colab": {
          "base_uri": "https://localhost:8080/",
          "height": 129
        },
        "id": "NLVpeQ4RDdWA",
        "outputId": "256da384-8007-4291-f3ae-7c3cebd23b33"
      },
      "source": [
        "# Tabela de notas - Você foi contratado ou contratada por uma escola pra fazer o sistema de boletim dos alunos. Como primeiro passo, escreva um programa que produza a seguinte saída:\n",
        "\n",
        "ALUNO (A)   NOTA\n",
        "=========  ====\n",
        "ALINE = float(input(9.0))\n",
        "MÁRIO = float(input \"DEZ\"))\n",
        "SÉRGIO = float(input 4.5)\n",
        "SHIRLEY = float(input 7.0))\n",
        "print(\n",
        "\n"
      ],
      "execution_count": null,
      "outputs": [
        {
          "output_type": "error",
          "ename": "SyntaxError",
          "evalue": "ignored",
          "traceback": [
            "\u001b[0;36m  File \u001b[0;32m\"<ipython-input-29-d780ac96d030>\"\u001b[0;36m, line \u001b[0;32m3\u001b[0m\n\u001b[0;31m    ALUNO (A)   NOTA\u001b[0m\n\u001b[0m                   ^\u001b[0m\n\u001b[0;31mSyntaxError\u001b[0m\u001b[0;31m:\u001b[0m invalid syntax\n"
          ]
        }
      ]
    },
    {
      "cell_type": "code",
      "metadata": {
        "colab": {
          "base_uri": "https://localhost:8080/"
        },
        "id": "U4Dqc1Q3Qu8o",
        "outputId": "7a043800-890c-4073-e09b-5a2ef6cc24e2"
      },
      "source": [
        "\n",
        "\n",
        "print(f'0 - fim\\n1 - incluir\\n2 - Altera\\n3 - Exclui\\n4 - Consulta\\n')\n",
        "n1 = int(input('Digite sua opção: '))\n",
        "print(f\"Você escolheu a opção: {n1}\")"
      ],
      "execution_count": null,
      "outputs": [
        {
          "output_type": "stream",
          "text": [
            "0 - fim\n",
            "1 - incluir\n",
            "2 - Altera\n",
            "3 - Exclui\n",
            "4 - Consulta\n",
            "\n",
            "Digite sua opção: 0\n",
            "Você escolheu a opção: 0\n"
          ],
          "name": "stdout"
        }
      ]
    },
    {
      "cell_type": "code",
      "metadata": {
        "colab": {
          "base_uri": "https://localhost:8080/",
          "height": 129
        },
        "id": "BVJdFTDRXd-3",
        "outputId": "4d288081-f70f-49c9-a7d8-9c2d6d4630e3"
      },
      "source": [
        "Calculadora de Dano - Escreva um programa que receba dois valores digitados pelo usuário:\n",
        "\n",
        "Quantidade de vida de um monstro (entre 10 e 50);\n",
        "Valor do ataque do jogador por turno (entre 5 e 10);\n",
        "Baseado nos valores digitados, exiba a quantidade de turnos que o jogador irá demorar para conseguir derrotar o monstro.\n",
        "O jogador irá derrotar o monstro em 8 turnos.\n",
        "\n",
        "A1 = int(5,6,7,8,9,10) # Ataques do jogador por turno\n",
        "M1 = int(10)\n",
        "n1 = int(input('Digite seu ataque'))\n",
        "\n",
        "print(f'Turnos{x}')"
      ],
      "execution_count": null,
      "outputs": [
        {
          "output_type": "error",
          "ename": "SyntaxError",
          "evalue": "ignored",
          "traceback": [
            "\u001b[0;36m  File \u001b[0;32m\"<ipython-input-43-c4fc95ede85c>\"\u001b[0;36m, line \u001b[0;32m1\u001b[0m\n\u001b[0;31m    Calculadora de Dano - Escreva um programa que receba dois valores digitados pelo usuário:\u001b[0m\n\u001b[0m                 ^\u001b[0m\n\u001b[0;31mSyntaxError\u001b[0m\u001b[0;31m:\u001b[0m invalid syntax\n"
          ]
        }
      ]
    },
    {
      "cell_type": "markdown",
      "metadata": {
        "id": "HqgnPaCGqMPB"
      },
      "source": [
        "# Exercícios"
      ]
    },
    {
      "cell_type": "markdown",
      "metadata": {
        "id": "U-ltrv0jqPBq"
      },
      "source": [
        "## #01 - E os 10% do garçom?**\n",
        "\n",
        "- Defina uma variável para o valor de uma refeição que custou R$ 42,54;\n",
        "\n",
        "- Defina uma variável para o valor da taxa de serviço que é de 10%;\n",
        "\n",
        "- Defina uma variável que calcula o valor total da conta e exiba-o no console com essa formatação: R$ XXXX.XX."
      ]
    },
    {
      "cell_type": "code",
      "metadata": {
        "id": "jbcSv4NFkB1C",
        "colab": {
          "base_uri": "https://localhost:8080/"
        },
        "outputId": "6422eeec-5ae2-4700-950e-fe41c5414faf"
      },
      "source": [
        "Ref = (42.54)\n",
        "print(f'Refeição R$ {Ref}')\n",
        "ts = int(0.1 * 42.54)\n",
        "print(f'Taxa de serviço é de R$ {ts}')\n",
        "Valor = Ref + ts\n",
        "print(f'Valor total da conta é de R${Valor}')"
      ],
      "execution_count": null,
      "outputs": [
        {
          "output_type": "stream",
          "text": [
            "Refeição R$ 42.54\n",
            "Taxa de serviço é de R$ 4\n",
            "Valor total da conta é de R$46.54\n"
          ],
          "name": "stdout"
        }
      ]
    },
    {
      "cell_type": "markdown",
      "metadata": {
        "id": "JR3-KgsTqR41"
      },
      "source": [
        "## #02 - Qual o valor do troco?\n",
        "\n",
        "*   Defina uma variável para o valor de uma compra que custou R$100,98;\n",
        "\n",
        "*   Defina uma variável para o valor que o cliente pagou R$150,00;\n",
        "\n",
        "*   Defina uma variável que calcula o valor do troco e exiba-o no console com o valor final arredondado."
      ]
    },
    {
      "cell_type": "code",
      "metadata": {
        "id": "hBf3kE_pksAI",
        "colab": {
          "base_uri": "https://localhost:8080/"
        },
        "outputId": "34c8f459-85df-45f3-b13f-2281e5890803"
      },
      "source": [
        "Compra = 100.98\n",
        "print(f'Valor da compra é de: R${Compra}')\n",
        "Pag = 150.00\n",
        "print(f'Valor pago pelo cliente foi de: R${Pag}')\n",
        "Troco = Pag - Compra\n",
        "print(f'Seu troco é de: R${Troco}')"
      ],
      "execution_count": 7,
      "outputs": [
        {
          "output_type": "stream",
          "text": [
            "Valor da compra é de: R$100.98\n",
            "Valor pago pelo cliente foi de: R$150.0\n",
            "Seu troco é de: R$49.019999999999996\n"
          ],
          "name": "stdout"
        }
      ]
    },
    {
      "cell_type": "markdown",
      "metadata": {
        "id": "2Uu84Uqtkunt"
      },
      "source": [
        "## #03 - Você está na flor da idade?\n",
        "\n",
        "*  Defina uma variável para o valor do ano do nascimento;\n",
        "*  Defina uma variável para o valor do ano atual;\n",
        "*  Defina uma variável que calcula o valor final da idade da pessoa;\n",
        "*  Exiba uma mensagem final dizendo a idade da pessoa e a mensagem \"Você está na flor da idade\"."
      ]
    },
    {
      "cell_type": "code",
      "metadata": {
        "id": "kyXxJV3nk14Z"
      },
      "source": [
        ""
      ],
      "execution_count": null,
      "outputs": []
    },
    {
      "cell_type": "markdown",
      "metadata": {
        "id": "w1T7s2q0p-pt"
      },
      "source": [
        "# Mini projetos"
      ]
    },
    {
      "cell_type": "markdown",
      "metadata": {
        "id": "meUw7PTwqC-Y"
      },
      "source": [
        "## #01 - Conversor de moedas\n",
        "\n",
        "Crie um programa que solicite um um valor em real ao usuário e converta esse valor, para:\n",
        "\n",
        "- DOLAR,\n",
        "- EURO,\n",
        "- LIBRA ESTERLINA,\n",
        "- DÓLAR CANADENSE,\n",
        "- PESO ARGENTINO,\n",
        "- PESO CHILENO.\n",
        "\n",
        "Para esse exercício você precisará realizar uma pesquisa para saber a cotação de cada moeda em real. Mostrar o resultado no formato $ XXXX.XX"
      ]
    },
    {
      "cell_type": "code",
      "metadata": {
        "id": "q481snSClrXe"
      },
      "source": [
        "#cotação US$1.00 = R$5.06\n"
      ],
      "execution_count": null,
      "outputs": []
    },
    {
      "cell_type": "markdown",
      "metadata": {
        "id": "KK9PIcJ4qIF9"
      },
      "source": [
        "## #02 - Calculadora de aumento de aluguel\n",
        "\n",
        "Vamos construir um programa que irá calcular o aumento anual do seu aluguel em duas partes:\n",
        "\n",
        "### Parte 1\n",
        "A sua calculadora vai receber o `valor do aluguel` e calcular o aumento baseado no `IGPM de 31%`. A calculadora deve apresentar o aluguel reajustado no formato `R$ XXXX.XX`\n",
        "\n",
        "**Exemplo:**\n",
        "```\n",
        "Valor do aluguel = 1000\n",
        "Valor do aluguel reajustado = R$ 1310,00"
      ]
    },
    {
      "cell_type": "code",
      "metadata": {
        "id": "VdjHa9Csl0Lg"
      },
      "source": [
        ""
      ],
      "execution_count": null,
      "outputs": []
    },
    {
      "cell_type": "markdown",
      "metadata": {
        "id": "lKTwnuNMl8rP"
      },
      "source": [
        "### Parte 2\n",
        "Agora, altere sua calculadora para receber além do `valor do aluguel`, o percentual do reajuste no formato `XX%`.  \n",
        "\n",
        "**Dica:** Descubra uma forma de transformar o percentual recebido em um número para efetuar o cálculo.\n",
        "\n",
        "**Exemplo:**\n",
        "```\n",
        "Valor do aluguel = 1000\n",
        "Percentual do reajuste = 31%\n",
        "Valor do aluguel reajustado = R% 1310,00\n",
        "```"
      ]
    },
    {
      "cell_type": "code",
      "metadata": {
        "id": "aw2Zk_9KmA85"
      },
      "source": [
        ""
      ],
      "execution_count": null,
      "outputs": []
    }
  ]
}