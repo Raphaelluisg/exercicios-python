{
  "nbformat": 4,
  "nbformat_minor": 0,
  "metadata": {
    "colab": {
      "name": "Cópia de Exercicios_Codelab_Aula_04.ipynb",
      "provenance": [],
      "include_colab_link": true
    },
    "kernelspec": {
      "name": "python3",
      "display_name": "Python 3"
    },
    "language_info": {
      "name": "python"
    }
  },
  "cells": [
    {
      "cell_type": "markdown",
      "metadata": {
        "id": "view-in-github",
        "colab_type": "text"
      },
      "source": [
        "<a href=\"https://colab.research.google.com/github/Raphaelluisg/exercicios-python/blob/main/C%C3%B3pia_de_Exercicios_Codelab_Aula_04.ipynb\" target=\"_parent\"><img src=\"https://colab.research.google.com/assets/colab-badge.svg\" alt=\"Open In Colab\"/></a>"
      ]
    },
    {
      "cell_type": "markdown",
      "metadata": {
        "id": "SW-cnnj3AAlE"
      },
      "source": [
        "## Exercício 01\n",
        "\n",
        "Faça um programa que pergunte ao usuário um número e valide se o numero é par ou impar:\n",
        "\n",
        "* Crie uma variável para receber o valor, com conversão para int\n",
        "* Para um número ser par, a divisão dele por 2 tem que dar resto 0"
      ]
    },
    {
      "cell_type": "code",
      "metadata": {
        "id": "ZeuCDPZQFT9T",
        "colab": {
          "base_uri": "https://localhost:8080/"
        },
        "outputId": "e7f2dc49-9254-4310-d679-273d84741b7b"
      },
      "source": [
        "n1 = int(input('Digite um número: '))\n",
        "valor = n1 % 2\n",
        "\n",
        "if valor == 0:\n",
        "  print('par')\n",
        "else:\n",
        "    print('impar')"
      ],
      "execution_count": null,
      "outputs": [
        {
          "output_type": "stream",
          "text": [
            "Digite um número: 3\n",
            "impar\n"
          ],
          "name": "stdout"
        }
      ]
    },
    {
      "cell_type": "markdown",
      "metadata": {
        "id": "jXVUBuN3DcU-"
      },
      "source": [
        "## Exercício 02\n",
        "\n",
        "> Parte 1\n",
        "\n",
        "Faça um script que peça um valor e mostre na tela se o valor é positivo ou negativo.\n",
        "\n",
        "> Parte 2\n",
        "\n",
        "Agora implemente a funcionalidade de não aceitar o número 0, no input. (esse vai além do explicado até agora)"
      ]
    },
    {
      "cell_type": "code",
      "metadata": {
        "id": "bsM4V6SeHwJr",
        "colab": {
          "base_uri": "https://localhost:8080/"
        },
        "outputId": "80b0a09b-753f-43df-a5cd-ec4ba4d547f8"
      },
      "source": [
        "# Parte 1\n",
        "\n",
        "n1 = int(input('Digite um valor: '))\n",
        "\n",
        "if n1 >=0:\n",
        "  print('positivo')\n",
        "else:\n",
        "  print('negativo')"
      ],
      "execution_count": null,
      "outputs": [
        {
          "output_type": "stream",
          "text": [
            "Digite um valor: -8\n",
            "negativo\n"
          ],
          "name": "stdout"
        }
      ]
    },
    {
      "cell_type": "code",
      "metadata": {
        "colab": {
          "base_uri": "https://localhost:8080/"
        },
        "id": "LP38Pekmguba",
        "outputId": "988c20e5-7ece-4fd3-f9ec-900f3c6da468"
      },
      "source": [
        "#Parte 2\n",
        "\n",
        "n1 = float(input('Digite um valor: '))\n",
        "\n",
        "if n1 > 0:\n",
        "  print('positivo')\n",
        "elif n1 == 0:\n",
        "  print('Error, repita a operação.')\n",
        "else:\n",
        "  print('negativo')"
      ],
      "execution_count": null,
      "outputs": [
        {
          "output_type": "stream",
          "text": [
            "Digite um valor: 2\n",
            "positivo\n"
          ],
          "name": "stdout"
        }
      ]
    },
    {
      "cell_type": "markdown",
      "metadata": {
        "id": "90mUizLXOKd3"
      },
      "source": [
        "## Exercício 03\n",
        "\n",
        "Faça um programa que peça dois números, imprima o maior deles ou imprima \"Numeros iguais\" se os números forem iguais."
      ]
    },
    {
      "cell_type": "code",
      "metadata": {
        "id": "7yXB2kfUVYuD",
        "colab": {
          "base_uri": "https://localhost:8080/"
        },
        "outputId": "55b68ee5-3c13-48b5-e9f7-85efa715003b"
      },
      "source": [
        "n1 = input('Digite um número: ')\n",
        "n2 = input('Digite um segundo número: ')\n",
        "\n",
        "if n1 > n2:\n",
        "  print(n1)\n",
        "elif n1 < n2:\n",
        "  print(n2)\n",
        "else:\n",
        "  print('Números iguais')"
      ],
      "execution_count": null,
      "outputs": [
        {
          "output_type": "stream",
          "text": [
            "Digite um número: 2\n",
            "Digite um segundo número: 2\n",
            "Números iguais\n"
          ],
          "name": "stdout"
        }
      ]
    },
    {
      "cell_type": "markdown",
      "metadata": {
        "id": "9BATv7tsOWOI"
      },
      "source": [
        "## Exercício 04\n",
        "\n",
        "Crie um programa que verifique se uma letra digitada é \"F\" ou \"M\". Conforme a letra, escrever: F - Feminino, M - Masculino, caso escreva outra letra: Sexo Biológico Inválido."
      ]
    },
    {
      "cell_type": "code",
      "metadata": {
        "id": "pRm8kyI7Wnp4",
        "colab": {
          "base_uri": "https://localhost:8080/"
        },
        "outputId": "906ebffe-a3af-4507-88b8-cab2ffd155a5"
      },
      "source": [
        "resposta = input('Qual seu sexo biológico? [F/M]: ').strip().upper()[0]\n",
        "\n",
        "if resposta == 'F':\n",
        "  print('Feminino')\n",
        "elif resposta =='M':\n",
        "  print('Masculino')\n",
        "else:\n",
        "  print('Sexo Biologico invalido')"
      ],
      "execution_count": null,
      "outputs": [
        {
          "output_type": "stream",
          "text": [
            "Qual seu sexo biológico? [F/M]: m\n",
            "Masculino\n"
          ],
          "name": "stdout"
        }
      ]
    },
    {
      "cell_type": "markdown",
      "metadata": {
        "id": "WX2j2ITtY3G5"
      },
      "source": [
        "### Exercício 05\n",
        "\n",
        "Crie um programa em Python que peça a nota do aluno, que deve ser um float entre 0.00 e 10.0\n",
        "\n",
        "* Se a nota for menor que 6.0, deve exibir a nota F.\n",
        "\n",
        "* Se a nota for de 6.0 até 7.0, deve exibir a nota D.\n",
        "\n",
        "* Se a nota for entre 7.0 e 8.0, deve exibir a nota C.\n",
        "\n",
        "* Se a nota for entre 8.0 e 9.0, deve exibir a nota B.\n",
        "\n",
        "* Por fim, se for entre 9.0 e 10.0, deve exibir um belo de um A."
      ]
    },
    {
      "cell_type": "code",
      "metadata": {
        "id": "4CjqLlFWY5Z-",
        "colab": {
          "base_uri": "https://localhost:8080/"
        },
        "outputId": "71a82295-1e95-433a-985a-671054897880"
      },
      "source": [
        "nota_aluno = float(input('Digite a nota do Aluno: '))\n",
        "\n",
        "if nota_aluno < 6.:\n",
        "  print(\"Nota F\")\n",
        "elif nota_aluno > 6. and nota_aluno < 7.:\n",
        "  print(\"Nota D\")\n",
        "elif nota_aluno > 7. and nota_aluno < 8.:\n",
        "  print(\"Nota C\")\n",
        "elif nota_aluno > 8. and nota_aluno < 9.:\n",
        "  print(\"Nota B\")\n",
        "else:\n",
        "    print(\"Nota A\")"
      ],
      "execution_count": null,
      "outputs": [
        {
          "output_type": "stream",
          "text": [
            "Digite a nota do Aluno: 7.5\n",
            "Nota C\n"
          ],
          "name": "stdout"
        }
      ]
    },
    {
      "cell_type": "markdown",
      "metadata": {
        "id": "xep4W_T-s-Ra"
      },
      "source": [
        "# *Mini Projetos*"
      ]
    },
    {
      "cell_type": "markdown",
      "metadata": {
        "id": "4YbMlSEZG7UM"
      },
      "source": [
        "## **PROJETO 01**\n",
        "\n",
        "*   Escreva um programa que receba uma string digitada pelo usuário;\n",
        "*   Caso a string seja \"medieval\", exiba no console \"espada\";\n",
        "*   Caso contrário, se a string for \"futurista\", exiba no console \"sabre de luz\";\n",
        "*   Caso contrário, exiba no console \"Tente novamente\""
      ]
    },
    {
      "cell_type": "code",
      "metadata": {
        "id": "tn9QH5pVG8Rq",
        "colab": {
          "base_uri": "https://localhost:8080/"
        },
        "outputId": "563997be-d348-4fdb-9e8e-deeb1e26a90c"
      },
      "source": [
        "# Resposta: \n",
        "n1 = (input('Informe o mundo que deseja explorar: ')).strip().lower()\n",
        "\n",
        "if n1 == 'medieval':\n",
        "  print('Você recebeu uma espada')\n",
        "elif n1 == 'futurista':\n",
        "  print('Você recebeu um sabe de luz')\n",
        "else:\n",
        "  print('Tente novamente')\n",
        "\n"
      ],
      "execution_count": null,
      "outputs": [
        {
          "output_type": "stream",
          "text": [
            "Informe o mundo que deseja explorar:  MEDIEVAL \n",
            "Você recebeu uma espada\n"
          ],
          "name": "stdout"
        }
      ]
    },
    {
      "cell_type": "markdown",
      "metadata": {
        "id": "zUGk1OiNHDik"
      },
      "source": [
        "## **PROJETO 02**\n",
        "\n",
        "* Escreva um programa que receba um ataque de espada ou sabre digitada pelo usuário;\n",
        "\n",
        "* Caso o ataque seja \"espada\", exiba no console \"VOCÊ AINDA NÃO MATOU O CHEFÃO\";\n",
        "\n",
        "* Caso contrário, se o ataque for \"sabre\", exiba no console \"VOCÊ DERROTOU O CHEFÃO COM O SABRE DE LUZ\";\n",
        "\n",
        "* Caso contrário, exiba no console \"ATAQUE NOVAMENTE\""
      ]
    },
    {
      "cell_type": "code",
      "metadata": {
        "id": "eNZokIIOHHkp",
        "colab": {
          "base_uri": "https://localhost:8080/"
        },
        "outputId": "501330d6-4104-488f-854e-ea3df5485163"
      },
      "source": [
        "ataque = input('Atacará com espada ou sabre? ').strip().lower()\n",
        "\n",
        "if ataque == 'espada':\n",
        "  print('Você ainda não matou o chefão')\n",
        "elif ataque == 'sabre':\n",
        "  print('Você derrotou o chefão com o sabre de luz')\n",
        "else:\n",
        "  print('Ataque novamente')"
      ],
      "execution_count": null,
      "outputs": [
        {
          "output_type": "stream",
          "text": [
            "Atacará com espada ou sabre? SABRE\n",
            "Você derrotou o chefão com o sabre de luz\n"
          ],
          "name": "stdout"
        }
      ]
    },
    {
      "cell_type": "markdown",
      "metadata": {
        "id": "NRhLAMa6ZfqU"
      },
      "source": [
        "## **DESAFIO 01**\n",
        "\n",
        "**Reajuste salarial**\n",
        "\n",
        "As empresas @.com resolveram dar um aumento de salário aos seus colaboradores e lhe contrataram para desenvolver o programa que calculará os reajustes.\n",
        "\n",
        "Faça um programa que recebe o salário de um colaborador e o reajuste segundo o seguinte critério, baseado no salário atual:\n",
        "* salários até R$ 280,00 (incluindo) : aumento de 20%\n",
        "\n",
        "* salários entre R\\$ 280,00 e R$ 700,00 : aumento de 15%\n",
        "\n",
        "* salários entre R\\$ 700,00 e R$ 1500,00 : aumento de 10%\n",
        "\n",
        "* salários de R$ 1500,00 em diante : aumento de 5% \n",
        "\n",
        "Após o aumento ser realizado, informe na tela:\n",
        "* o salário antes do reajuste;\n",
        "\n",
        "* o percentual de aumento aplicado;\n",
        "\n",
        "* o valor do aumento;\n",
        "\n",
        "* o novo salário, após o aumento.\""
      ]
    },
    {
      "cell_type": "code",
      "metadata": {
        "id": "VpC5oZINZXzt",
        "colab": {
          "base_uri": "https://localhost:8080/"
        },
        "outputId": "92518b93-c584-4c7b-f9c0-7740159da507"
      },
      "source": [
        "salario = float(input('Salário do colaborador: R$'))\n",
        "\n",
        "if salario <=280:\n",
        "  salario = (salario*0.20) + salario\n",
        "  print(f'Seu novo salario é de: R$ {salario:.2f}, com reajuste de20%')\n",
        "elif 280.00 > salario < 700.00:\n",
        "  salario = (salario*0.15) + salario\n",
        "  print(f'Seu novo salario é de: R$ {salario:.2f}, com reajuste de 15%')\n",
        "elif 700.00 > salario < 1500.00:\n",
        "  salario = (salario*0.10) + salario\n",
        "  print(f'Seu novo salario é de: R$ {salario:.2f}, com reajuste de 10%')\n",
        "else:\n",
        "  salario = (salario*0.05) + salario\n",
        "  print(f'Seu novo salario é de: R${salario}, com reajuste de 5%')\n",
        "\n",
        "\n"
      ],
      "execution_count": 1,
      "outputs": [
        {
          "output_type": "stream",
          "text": [
            "Salário do colaborador: R$16000\n",
            "Seu novo salario é de: R$16800.0, com acrescimo de 5%\n"
          ],
          "name": "stdout"
        }
      ]
    },
    {
      "cell_type": "markdown",
      "metadata": {
        "id": "HvThpbU4aBGy"
      },
      "source": [
        "## **DESAFIO 02**\n",
        "\n",
        "**Jogo da adivinhação**\n",
        "\n",
        "Escreva um programa que faça o computador “pensar” em um número inteiro entre 0 e 10 e peça para o usuário tentar descobrir qual foi o número escolhido pelo computador. O programa deverá escrever na tela se o usuário venceu ou perdeu."
      ]
    },
    {
      "cell_type": "code",
      "metadata": {
        "id": "TVeHZbyQZIzO"
      },
      "source": [
        "n1 = int(input('Digite um número entre 0 e 10:'))\n",
        "\n",
        "if\n",
        "\n"
      ],
      "execution_count": null,
      "outputs": []
    },
    {
      "cell_type": "markdown",
      "metadata": {
        "id": "mjLFAUooaOH1"
      },
      "source": [
        "## **Desafio 03**\n",
        "\n",
        "**Caixa eletrônico**\n",
        "\n",
        "Faça um Programa para um caixa eletrônico. O programa deverá perguntar ao usuário a valor do saque e depois informar quantas notas de cada valor serão fornecidas. As notas disponíveis serão as de 1, 5, 10, 50 e 100 reais. O valor mínimo é de 10 reais e o máximo de 600 reais. O programa não deve se preocupar com a quantidade de notas existentes na máquina.\n",
        "\n",
        "* Exemplo 1: Para sacar a quantia de 256 reais, o programa fornece duas notas de 100, uma nota de 50, uma nota de 5 e uma nota de 1;\n",
        "\n",
        "* Exemplo 2: Para sacar a quantia de 399 reais, o programa fornece três notas de 100, uma nota de 50, quatro notas de 10, uma nota de 5 e quatro notas de 1.\n",
        "\n"
      ]
    },
    {
      "cell_type": "code",
      "metadata": {
        "id": "sH65bTx-ZMLh",
        "colab": {
          "base_uri": "https://localhost:8080/"
        },
        "outputId": "078fcec8-46bf-4be5-8734-e039648f024c"
      },
      "source": [
        "n1 = int(input('Valor para saque: R$'))\n",
        "n2 = n1\n",
        "\n"
      ],
      "execution_count": null,
      "outputs": [
        {
          "output_type": "stream",
          "text": [
            "Valor para saque: R$256\n"
          ],
          "name": "stdout"
        }
      ]
    }
  ]
}